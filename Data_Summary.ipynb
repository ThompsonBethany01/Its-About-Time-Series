{
 "cells": [
  {
   "cell_type": "markdown",
   "metadata": {},
   "source": [
    "# Summarizing the Data\n",
    "- What are the distibutions of data?\n",
    "- What is the individual wearing the fitbit like?\n",
    "- Are there trends over time? days, weeks, months?\n",
    "\n",
    "## Steps\n",
    "- [x] univariate analysis\n",
    "- [ ] split into train and test data - 70% for train, 30% for test\n",
    "- [ ] explore trends over time\n",
    "- [ ] make conclusions on individual wearing the fitbit"
   ]
  },
  {
   "cell_type": "code",
   "execution_count": 1,
   "metadata": {},
   "outputs": [],
   "source": [
    "import Prepare\n",
    "\n",
    "import pandas as pd\n",
    "import seaborn as sns\n",
    "import matplotlib.pyplot as plt"
   ]
  },
  {
   "cell_type": "code",
   "execution_count": 2,
   "metadata": {},
   "outputs": [],
   "source": [
    "df = Prepare.prep_data()"
   ]
  },
  {
   "cell_type": "code",
   "execution_count": 3,
   "metadata": {},
   "outputs": [
    {
     "data": {
      "text/html": [
       "<div>\n",
       "<style scoped>\n",
       "    .dataframe tbody tr th:only-of-type {\n",
       "        vertical-align: middle;\n",
       "    }\n",
       "\n",
       "    .dataframe tbody tr th {\n",
       "        vertical-align: top;\n",
       "    }\n",
       "\n",
       "    .dataframe thead th {\n",
       "        text-align: right;\n",
       "    }\n",
       "</style>\n",
       "<table border=\"1\" class=\"dataframe\">\n",
       "  <thead>\n",
       "    <tr style=\"text-align: right;\">\n",
       "      <th></th>\n",
       "      <th>cals_burned</th>\n",
       "      <th>steps</th>\n",
       "      <th>dist</th>\n",
       "      <th>floors</th>\n",
       "      <th>mins_sedentary</th>\n",
       "      <th>mins_lightly_active</th>\n",
       "      <th>mins_fairly_active</th>\n",
       "      <th>mins_very_active</th>\n",
       "      <th>activity_cals</th>\n",
       "      <th>month</th>\n",
       "      <th>weekday</th>\n",
       "    </tr>\n",
       "    <tr>\n",
       "      <th>date</th>\n",
       "      <th></th>\n",
       "      <th></th>\n",
       "      <th></th>\n",
       "      <th></th>\n",
       "      <th></th>\n",
       "      <th></th>\n",
       "      <th></th>\n",
       "      <th></th>\n",
       "      <th></th>\n",
       "      <th></th>\n",
       "      <th></th>\n",
       "    </tr>\n",
       "  </thead>\n",
       "  <tbody>\n",
       "    <tr>\n",
       "      <th>2018-04-26</th>\n",
       "      <td>2635</td>\n",
       "      <td>2931</td>\n",
       "      <td>1.38</td>\n",
       "      <td>2</td>\n",
       "      <td>1347</td>\n",
       "      <td>93</td>\n",
       "      <td>0</td>\n",
       "      <td>0</td>\n",
       "      <td>566</td>\n",
       "      <td>4</td>\n",
       "      <td>Thursday</td>\n",
       "    </tr>\n",
       "    <tr>\n",
       "      <th>2018-04-27</th>\n",
       "      <td>3649</td>\n",
       "      <td>9971</td>\n",
       "      <td>4.70</td>\n",
       "      <td>19</td>\n",
       "      <td>1158</td>\n",
       "      <td>219</td>\n",
       "      <td>46</td>\n",
       "      <td>17</td>\n",
       "      <td>1752</td>\n",
       "      <td>4</td>\n",
       "      <td>Friday</td>\n",
       "    </tr>\n",
       "    <tr>\n",
       "      <th>2018-04-28</th>\n",
       "      <td>3379</td>\n",
       "      <td>3521</td>\n",
       "      <td>1.66</td>\n",
       "      <td>2</td>\n",
       "      <td>702</td>\n",
       "      <td>155</td>\n",
       "      <td>22</td>\n",
       "      <td>11</td>\n",
       "      <td>1124</td>\n",
       "      <td>4</td>\n",
       "      <td>Saturday</td>\n",
       "    </tr>\n",
       "    <tr>\n",
       "      <th>2018-04-29</th>\n",
       "      <td>2851</td>\n",
       "      <td>1639</td>\n",
       "      <td>0.77</td>\n",
       "      <td>0</td>\n",
       "      <td>891</td>\n",
       "      <td>122</td>\n",
       "      <td>0</td>\n",
       "      <td>0</td>\n",
       "      <td>602</td>\n",
       "      <td>4</td>\n",
       "      <td>Sunday</td>\n",
       "    </tr>\n",
       "    <tr>\n",
       "      <th>2018-04-30</th>\n",
       "      <td>2825</td>\n",
       "      <td>1323</td>\n",
       "      <td>0.62</td>\n",
       "      <td>0</td>\n",
       "      <td>880</td>\n",
       "      <td>104</td>\n",
       "      <td>0</td>\n",
       "      <td>0</td>\n",
       "      <td>540</td>\n",
       "      <td>4</td>\n",
       "      <td>Monday</td>\n",
       "    </tr>\n",
       "  </tbody>\n",
       "</table>\n",
       "</div>"
      ],
      "text/plain": [
       "            cals_burned  steps  dist  floors  mins_sedentary  \\\n",
       "date                                                           \n",
       "2018-04-26         2635   2931  1.38       2            1347   \n",
       "2018-04-27         3649   9971  4.70      19            1158   \n",
       "2018-04-28         3379   3521  1.66       2             702   \n",
       "2018-04-29         2851   1639  0.77       0             891   \n",
       "2018-04-30         2825   1323  0.62       0             880   \n",
       "\n",
       "            mins_lightly_active  mins_fairly_active  mins_very_active  \\\n",
       "date                                                                    \n",
       "2018-04-26                   93                   0                 0   \n",
       "2018-04-27                  219                  46                17   \n",
       "2018-04-28                  155                  22                11   \n",
       "2018-04-29                  122                   0                 0   \n",
       "2018-04-30                  104                   0                 0   \n",
       "\n",
       "            activity_cals  month   weekday  \n",
       "date                                        \n",
       "2018-04-26            566      4  Thursday  \n",
       "2018-04-27           1752      4    Friday  \n",
       "2018-04-28           1124      4  Saturday  \n",
       "2018-04-29            602      4    Sunday  \n",
       "2018-04-30            540      4    Monday  "
      ]
     },
     "execution_count": 3,
     "metadata": {},
     "output_type": "execute_result"
    }
   ],
   "source": [
    "df.head()"
   ]
  },
  {
   "cell_type": "code",
   "execution_count": 4,
   "metadata": {},
   "outputs": [
    {
     "data": {
      "text/plain": [
       "10    31\n",
       "8     31\n",
       "7     31\n",
       "5     31\n",
       "11    30\n",
       "9     30\n",
       "6     30\n",
       "12     6\n",
       "4      5\n",
       "Name: month, dtype: int64"
      ]
     },
     "execution_count": 4,
     "metadata": {},
     "output_type": "execute_result"
    }
   ],
   "source": [
    "df.month.value_counts()"
   ]
  },
  {
   "cell_type": "markdown",
   "metadata": {},
   "source": [
    "## Data ranges from the months of April to December\n",
    "### April and December are not complete, have less than a week of data\n",
    "#### What are the univariate distributions of the data like?"
   ]
  },
  {
   "cell_type": "code",
   "execution_count": 26,
   "metadata": {},
   "outputs": [
    {
     "data": {
      "text/plain": [
       "Text(0, 0.5, 'Count')"
      ]
     },
     "execution_count": 26,
     "metadata": {},
     "output_type": "execute_result"
    },
    {
     "data": {
      "image/png": "[encoded data removed]",
      "text/plain": [
       "<Figure size 432x288 with 1 Axes>"
      ]
     },
     "metadata": {
      "needs_background": "light"
     },
     "output_type": "display_data"
    }
   ],
   "source": [
    "plt.hist(df.cals_burned)\n",
    "plt.title('Histograms of Calories Burned')\n",
    "plt.xlabel('Total Calories in Day')\n",
    "plt.ylabel('Count')"
   ]
  },
  {
   "cell_type": "code",
   "execution_count": 25,
   "metadata": {},
   "outputs": [
    {
     "data": {
      "text/plain": [
       "Text(0, 0.5, 'Count')"
      ]
     },
     "execution_count": 25,
     "metadata": {},
     "output_type": "execute_result"
    },
    {
     "data": {
      "image/png": "[encoded data removed]",
      "text/plain": [
       "<Figure size 432x288 with 1 Axes>"
      ]
     },
     "metadata": {
      "needs_background": "light"
     },
     "output_type": "display_data"
    }
   ],
   "source": [
    "plt.hist(df.steps)\n",
    "plt.title('Histograms of Steps Taken')\n",
    "plt.xlabel('Steps Taken')\n",
    "plt.ylabel('Count')"
   ]
  },
  {
   "cell_type": "code",
   "execution_count": 24,
   "metadata": {},
   "outputs": [
    {
     "data": {
      "text/plain": [
       "Text(0, 0.5, 'Count')"
      ]
     },
     "execution_count": 24,
     "metadata": {},
     "output_type": "execute_result"
    },
    {
     "data": {
      "image/png": "[encoded data removed]",
      "text/plain": [
       "<Figure size 432x288 with 1 Axes>"
      ]
     },
     "metadata": {
      "needs_background": "light"
     },
     "output_type": "display_data"
    }
   ],
   "source": [
    "plt.hist(df.dist)\n",
    "plt.title('Histograms of Distance')\n",
    "plt.xlabel('Distance')\n",
    "plt.ylabel('Count')"
   ]
  },
  {
   "cell_type": "code",
   "execution_count": 23,
   "metadata": {},
   "outputs": [
    {
     "data": {
      "text/plain": [
       "Text(0, 0.5, 'Count')"
      ]
     },
     "execution_count": 23,
     "metadata": {},
     "output_type": "execute_result"
    },
    {
     "data": {
      "image/png": "[encoded data removed]",
      "text/plain": [
       "<Figure size 432x288 with 1 Axes>"
      ]
     },
     "metadata": {
      "needs_background": "light"
     },
     "output_type": "display_data"
    }
   ],
   "source": [
    "plt.hist(df.floors)\n",
    "plt.title('Histograms of Floors')\n",
    "plt.xlabel('Level of Floor')\n",
    "plt.ylabel('Count')"
   ]
  },
  {
   "cell_type": "code",
   "execution_count": 22,
   "metadata": {},
   "outputs": [
    {
     "data": {
      "text/plain": [
       "Text(0, 0.5, 'Count')"
      ]
     },
     "execution_count": 22,
     "metadata": {},
     "output_type": "execute_result"
    },
    {
     "data": {
      "image/png": "[encoded data removed]",
      "text/plain": [
       "<Figure size 432x288 with 1 Axes>"
      ]
     },
     "metadata": {
      "needs_background": "light"
     },
     "output_type": "display_data"
    }
   ],
   "source": [
    "plt.hist(df.mins_sedentary)\n",
    "plt.hist(df.mins_lightly_active)\n",
    "plt.hist(df.mins_very_active)\n",
    "plt.hist(df.mins_fairly_active)\n",
    "plt.legend(['sedentary','lightly','very','fairly'])\n",
    "plt.title('Histograms of Activity in Minutes')\n",
    "plt.xlabel('Time in Minutes')\n",
    "plt.ylabel('Count')"
   ]
  },
  {
   "cell_type": "code",
   "execution_count": 27,
   "metadata": {},
   "outputs": [
    {
     "data": {
      "text/plain": [
       "Text(0, 0.5, 'Count')"
      ]
     },
     "execution_count": 27,
     "metadata": {},
     "output_type": "execute_result"
    },
    {
     "data": {
      "image/png": "[encoded data removed]",
      "text/plain": [
       "<Figure size 432x288 with 1 Axes>"
      ]
     },
     "metadata": {
      "needs_background": "light"
     },
     "output_type": "display_data"
    }
   ],
   "source": [
    "plt.hist(df.activity_cals)\n",
    "plt.title('Histograms of Activity Calories')\n",
    "plt.xlabel('Calories')\n",
    "plt.ylabel('Count')"
   ]
  },
  {
   "cell_type": "markdown",
   "metadata": {},
   "source": [
    "## Takeaways\n",
    "- Calories burned \n",
    "    - ranges from 1000 to 5000\n",
    "    - normally distributed at 2k - 5k\n",
    "    - mode at 3k\n",
    "- Steps taken\n",
    "    - ranges from 0 to 25,000\n",
    "    - mode at around 6k\n",
    "- Distance\n",
    "    - ranges from 0 to 12\n",
    "    - could be miles?\n",
    "    - mode at 3\n",
    "- Floors\n",
    "    - ranges from 0 to almost 200\n",
    "    - seems to have outliers at the higher range\n",
    "    - most at 0 to 25\n",
    "- Minutes of Activity\n",
    "    - most acitivty at sedentary level\n",
    "    - sedentary and lightly are normally distributed\n",
    "    - fairly and very have peaks at the beginning minutes\n",
    "- Activity Calories\n",
    "    - normally distributed\n",
    "    - ranges from 0 to 3.5k\n",
    "    - mode at about 1300"
   ]
  },
  {
   "cell_type": "markdown",
   "metadata": {},
   "source": [
    "# Splitting the Data\n",
    "- will split data into 70% for train and 30% for test\n",
    "- data is already sorted by the date"
   ]
  },
  {
   "cell_type": "code",
   "execution_count": 29,
   "metadata": {},
   "outputs": [
    {
     "name": "stdout",
     "output_type": "stream",
     "text": [
      "index to split: 158\n"
     ]
    }
   ],
   "source": [
    "# determining index for splitting the data\n",
    "train_size = .70\n",
    "n = df.shape[0]\n",
    "test_start_index = round(train_size * n)\n",
    "print('index to split:',test_start_index)"
   ]
  },
  {
   "cell_type": "code",
   "execution_count": 31,
   "metadata": {},
   "outputs": [],
   "source": [
    "train = df[:test_start_index] # everything up (not including) to the test_start_index\n",
    "test = df[test_start_index:] # everything from the test_start_index to the end"
   ]
  },
  {
   "cell_type": "code",
   "execution_count": 33,
   "metadata": {},
   "outputs": [
    {
     "data": {
      "text/plain": [
       "[<matplotlib.lines.Line2D at 0x7fba14ee8fd0>]"
      ]
     },
     "execution_count": 33,
     "metadata": {},
     "output_type": "execute_result"
    },
    {
     "data": {
      "image/png": "[encoded data removed]",
      "text/plain": [
       "<Figure size 432x288 with 1 Axes>"
      ]
     },
     "metadata": {
      "needs_background": "light"
     },
     "output_type": "display_data"
    }
   ],
   "source": [
    "plt.plot(train.index, train.cals_burned)\n",
    "plt.plot(test.index, test.cals_burned)"
   ]
  }
 ],
 "metadata": {
  "kernelspec": {
   "display_name": "Python 3",
   "language": "python",
   "name": "python3"
  },
  "language_info": {
   "codemirror_mode": {
    "name": "ipython",
    "version": 3
   },
   "file_extension": ".py",
   "mimetype": "text/x-python",
   "name": "python",
   "nbconvert_exporter": "python",
   "pygments_lexer": "ipython3",
   "version": "3.7.6"
  }
 },
 "nbformat": 4,
 "nbformat_minor": 4
}
